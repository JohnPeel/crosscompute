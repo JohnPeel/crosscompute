{
 "cells": [
  {
   "cell_type": "code",
   "execution_count": 11,
   "id": "443014de-07fe-42f2-aa36-8927b2e54fb2",
   "metadata": {},
   "outputs": [
    {
     "data": {
      "text/plain": [
       "{'a': '1.5'}"
      ]
     },
     "execution_count": 11,
     "metadata": {},
     "output_type": "execute_result"
    }
   ],
   "source": [
    "data_by_id = {'a': '1.5'}\n",
    "data_by_id"
   ]
  },
  {
   "cell_type": "code",
   "execution_count": 2,
   "id": "3c50ccd8-999b-4ca9-9c40-1b3663cb6931",
   "metadata": {},
   "outputs": [
    {
     "data": {
      "text/plain": [
       "[{'id': 'a', 'view': 'number'}]"
      ]
     },
     "execution_count": 2,
     "metadata": {},
     "output_type": "execute_result"
    }
   ],
   "source": [
    "variable_definitions = [{'id': 'a', 'view': 'number'}]\n",
    "variable_definitions"
   ]
  },
  {
   "cell_type": "code",
   "execution_count": 3,
   "id": "8bd4c626-d879-4164-8cb7-a371ed01a436",
   "metadata": {},
   "outputs": [],
   "source": [
    "from crosscompute.routines.configuration import get_variable_view_class"
   ]
  },
  {
   "cell_type": "code",
   "execution_count": 9,
   "id": "9006a77c-03e1-472f-90ca-592aa86715fc",
   "metadata": {},
   "outputs": [
    {
     "name": "stdout",
     "output_type": "stream",
     "text": [
      "<crosscompute.routines.configuration.NumberView object at 0x7fd154d44f40>\n"
     ]
    }
   ],
   "source": [
    "for variable_definition in variable_definitions:\n",
    "    variable_id = variable_definition['id']\n",
    "    variable_view = get_variable_view_class(variable_definition)()\n",
    "    variable_data = data_by_id[variable_id]\n",
    "    print(variable_view)"
   ]
  },
  {
   "cell_type": "code",
   "execution_count": 6,
   "id": "9159fbca-740b-44a5-ae3f-5d48cda4cf1f",
   "metadata": {},
   "outputs": [
    {
     "data": {
      "text/plain": [
       "'a'"
      ]
     },
     "execution_count": 6,
     "metadata": {},
     "output_type": "execute_result"
    }
   ],
   "source": [
    "from crosscompute.exceptions import CrossComputeDataError\n",
    "\n",
    "x = CrossComputeDataError('a')\n",
    "str(x)"
   ]
  },
  {
   "cell_type": "code",
   "execution_count": 9,
   "id": "402f412e-9047-4a61-920f-595e174bc19a",
   "metadata": {},
   "outputs": [
    {
     "data": {
      "text/plain": [
       "\"{'a': 1}\""
      ]
     },
     "execution_count": 9,
     "metadata": {},
     "output_type": "execute_result"
    }
   ],
   "source": [
    "x = CrossComputeDataError({'a': 1})\n",
    "str(x)"
   ]
  },
  {
   "cell_type": "code",
   "execution_count": 12,
   "id": "e5f1b3c5-747f-4cb3-bb5b-116f1db93581",
   "metadata": {},
   "outputs": [
    {
     "data": {
      "text/plain": [
       "{'a': 1.5}"
      ]
     },
     "execution_count": 12,
     "metadata": {},
     "output_type": "execute_result"
    }
   ],
   "source": [
    "from crosscompute.exceptions import CrossComputeDataError\n",
    "\n",
    "def parse_data_by_id(data_by_id, variable_definitions):\n",
    "    for variable_definition in variable_definitions:\n",
    "        variable_id = variable_definition['id']\n",
    "        try:\n",
    "            variable_data = data_by_id[variable_id]                \n",
    "        except KeyError:\n",
    "            raise HTTPBadRequest({variable_id: 'required'})\n",
    "        variable_view = get_variable_view_class(variable_definition)()\n",
    "        try:\n",
    "            variable_data = variable_view.parse(variable_data)\n",
    "        except CrossComputeDataError as e:\n",
    "            raise HTTPBadRequest({variable_id: e}) \n",
    "        data_by_id[variable_id] = variable_data\n",
    "    return data_by_id\n",
    "\n",
    "parse_data_by_id(data_by_id, variable_definitions)"
   ]
  }
 ],
 "metadata": {
  "kernelspec": {
   "display_name": "Python 3 (ipykernel)",
   "language": "python",
   "name": "python3"
  },
  "language_info": {
   "codemirror_mode": {
    "name": "ipython",
    "version": 3
   },
   "file_extension": ".py",
   "mimetype": "text/x-python",
   "name": "python",
   "nbconvert_exporter": "python",
   "pygments_lexer": "ipython3",
   "version": "3.9.9"
  }
 },
 "nbformat": 4,
 "nbformat_minor": 5
}
