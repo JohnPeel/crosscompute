{
 "cells": [
  {
   "cell_type": "code",
   "execution_count": 4,
   "metadata": {},
   "outputs": [],
   "source": [
    "# from crosscompute.scripts import get_configuration_paths_by_format\n",
    "from os.path import join\n",
    "\n",
    "examples_folder = '../../crosscompute-examples/reports'\n",
    "configuration_folder = examples_folder + '/randomize-histograms'\n",
    "# get_configuration_paths_by_format(configuration_folder)\n",
    "configuration_path = join(configuration_folder, 'serve.yml')"
   ]
  },
  {
   "cell_type": "code",
   "execution_count": 5,
   "metadata": {},
   "outputs": [
    {
     "data": {
      "text/plain": [
       "{'crosscompute': '0.9.0',\n",
       " 'name': 'Randomize Histograms',\n",
       " 'version': '0.0.1',\n",
       " 'input': {'variables': [{'id': 'mean',\n",
       "    'view': 'number',\n",
       "    'path': 'variables.json'},\n",
       "   {'id': 'variance', 'view': 'number', 'path': 'variables.json'},\n",
       "   {'id': 'value_count', 'view': 'number', 'path': 'variables.json'},\n",
       "   {'id': 'bin_count', 'view': 'number', 'path': 'variables.json'}]},\n",
       " 'output': {'variables': [{'id': 'histogram-1d',\n",
       "    'view': 'image',\n",
       "    'path': 'histogram-1d.png'},\n",
       "   {'id': 'histogram-2d', 'view': 'image', 'path': 'histogram-2d.png'}],\n",
       "  'templates': [{'path': 'report.md'}]},\n",
       " 'tests': [{'folder': 'tests/standard'}],\n",
       " 'batches': [{'folder': 'batches/a'}, {'folder': 'batches/b'}],\n",
       " 'display': {'style': {'path': 'report.css'}, 'layout': 'output'}}"
      ]
     },
     "execution_count": 5,
     "metadata": {},
     "output_type": "execute_result"
    }
   ],
   "source": [
    "# Load configuration file\n",
    "import yaml\n",
    "d = yaml.safe_load(open(configuration_path, 'rt'))\n",
    "d"
   ]
  },
  {
   "cell_type": "code",
   "execution_count": 6,
   "metadata": {},
   "outputs": [
    {
     "data": {
      "text/plain": [
       "dict_keys(['variables', 'templates'])"
      ]
     },
     "execution_count": 6,
     "metadata": {},
     "output_type": "execute_result"
    }
   ],
   "source": [
    "d['output'].keys()"
   ]
  },
  {
   "cell_type": "code",
   "execution_count": 7,
   "metadata": {},
   "outputs": [
    {
     "data": {
      "text/plain": [
       "[{'id': 'histogram-1d', 'view': 'image', 'path': 'histogram-1d.png'},\n",
       " {'id': 'histogram-2d', 'view': 'image', 'path': 'histogram-2d.png'}]"
      ]
     },
     "execution_count": 7,
     "metadata": {},
     "output_type": "execute_result"
    }
   ],
   "source": [
    "# Get output variables\n",
    "d['output']['variables']"
   ]
  },
  {
   "cell_type": "code",
   "execution_count": 8,
   "metadata": {},
   "outputs": [
    {
     "data": {
      "text/plain": [
       "[{'path': 'report.md'}]"
      ]
     },
     "execution_count": 8,
     "metadata": {},
     "output_type": "execute_result"
    }
   ],
   "source": [
    "d['output']['templates']"
   ]
  },
  {
   "cell_type": "code",
   "execution_count": 9,
   "metadata": {},
   "outputs": [
    {
     "data": {
      "text/plain": [
       "[{'id': 'mean', 'view': 'number', 'path': 'variables.json'},\n",
       " {'id': 'variance', 'view': 'number', 'path': 'variables.json'},\n",
       " {'id': 'value_count', 'view': 'number', 'path': 'variables.json'},\n",
       " {'id': 'bin_count', 'view': 'number', 'path': 'variables.json'}]"
      ]
     },
     "execution_count": 9,
     "metadata": {},
     "output_type": "execute_result"
    }
   ],
   "source": [
    "# Get input variables\n",
    "d['input']['variables']"
   ]
  },
  {
   "cell_type": "code",
   "execution_count": 10,
   "metadata": {},
   "outputs": [
    {
     "name": "stdout",
     "output_type": "stream",
     "text": [
      " \u001b[0m\u001b[01;34m0.7\u001b[0m/                                mapbox.html\n",
      " \u001b[01;34m0.8\u001b[0m/                               'Restore Functionality 20211019.ipynb'\n",
      " choropleth-20211020.html            target.html\n",
      " choropleth-graffiti-20211020.html   template.html\n",
      " image-experiment.html\n"
     ]
    }
   ],
   "source": [
    "ls"
   ]
  },
  {
   "cell_type": "code",
   "execution_count": null,
   "metadata": {},
   "outputs": [],
   "source": [
    "# Inject mapbox elements if map-mapbox exists"
   ]
  },
  {
   "cell_type": "code",
   "execution_count": 11,
   "metadata": {},
   "outputs": [
    {
     "data": {
      "text/plain": [
       "'../../crosscompute-examples/reports/randomize-histograms'"
      ]
     },
     "execution_count": 11,
     "metadata": {},
     "output_type": "execute_result"
    }
   ],
   "source": [
    "configuration_folder"
   ]
  },
  {
   "cell_type": "code",
   "execution_count": 16,
   "metadata": {},
   "outputs": [],
   "source": [
    "relative_folder = d['tests'][0]['folder']"
   ]
  },
  {
   "cell_type": "code",
   "execution_count": 19,
   "metadata": {},
   "outputs": [
    {
     "data": {
      "text/plain": [
       "'../../crosscompute-examples/reports/randomize-histograms/tests/standard'"
      ]
     },
     "execution_count": 19,
     "metadata": {},
     "output_type": "execute_result"
    }
   ],
   "source": [
    "test_folder = join(configuration_folder, relative_folder)\n",
    "test_folder"
   ]
  },
  {
   "cell_type": "code",
   "execution_count": 21,
   "metadata": {},
   "outputs": [
    {
     "name": "stdout",
     "output_type": "stream",
     "text": [
      "variables.json\n"
     ]
    }
   ],
   "source": [
    "ls $test_folder/input"
   ]
  },
  {
   "cell_type": "code",
   "execution_count": 22,
   "metadata": {},
   "outputs": [
    {
     "data": {
      "text/plain": [
       "'../../crosscompute-examples/reports/randomize-histograms/tests/standard/input/variables.json'"
      ]
     },
     "execution_count": 22,
     "metadata": {},
     "output_type": "execute_result"
    }
   ],
   "source": [
    "input_folder = join(test_folder, 'input')\n",
    "variables_path = join(input_folder, 'variables.json')\n",
    "variables_path"
   ]
  },
  {
   "cell_type": "code",
   "execution_count": null,
   "metadata": {},
   "outputs": [],
   "source": [
    "# Get variable definitions\n",
    "variable_definitions = d['input']['variables']\n",
    "variable_definitions_by_path\n",
    "\n",
    "for (\n",
    "    path, variable_definitions,\n",
    ") in variable_definitions_by_path.items():\n",
    "    \n",
    "    pass\n",
    "\n",
    "# For each variable definition,\n",
    "    # Get path\n",
    "    # Get value from path"
   ]
  },
  {
   "cell_type": "code",
   "execution_count": 23,
   "metadata": {},
   "outputs": [
    {
     "name": "stdout",
     "output_type": "stream",
     "text": [
      "{\n",
      "  \"mean\": 0,\n",
      "  \"variance\": 1,\n",
      "  \"value_count\": 500,\n",
      "  \"bin_count\": 10\n",
      "}\n"
     ]
    }
   ],
   "source": [
    "cat $variables_path"
   ]
  },
  {
   "cell_type": "code",
   "execution_count": null,
   "metadata": {},
   "outputs": [],
   "source": [
    "pip install -U matplotlib"
   ]
  },
  {
   "cell_type": "code",
   "execution_count": 67,
   "metadata": {},
   "outputs": [],
   "source": [
    "import numpy as np\n",
    "import matplotlib.pyplot as plt"
   ]
  },
  {
   "cell_type": "code",
   "execution_count": 68,
   "metadata": {},
   "outputs": [],
   "source": [
    "# np.random.seed(19680801)\n",
    "rng = np.random.default_rng()\n",
    "\n",
    "# example data\n",
    "mu = 100  # mean of distribution\n",
    "sigma = 15  # standard deviation of distribution\n",
    "# x = mu + sigma * np.random.randn(437)\n",
    "x = mu + sigma * rng.standard_normal(500)"
   ]
  },
  {
   "cell_type": "code",
   "execution_count": null,
   "metadata": {},
   "outputs": [],
   "source": []
  },
  {
   "cell_type": "code",
   "execution_count": 69,
   "metadata": {},
   "outputs": [],
   "source": [
    "# mean, variance, value_count, bin_count, random_seed"
   ]
  },
  {
   "cell_type": "code",
   "execution_count": 70,
   "metadata": {},
   "outputs": [
    {
     "data": {
      "text/plain": [
       "(500,)"
      ]
     },
     "execution_count": 70,
     "metadata": {},
     "output_type": "execute_result"
    }
   ],
   "source": [
    "x.shape"
   ]
  },
  {
   "cell_type": "code",
   "execution_count": 86,
   "metadata": {},
   "outputs": [
    {
     "data": {
      "image/png": "[encoded data removed]",
      "text/plain": [
       "<Figure size 432x288 with 1 Axes>"
      ]
     },
     "metadata": {
      "needs_background": "light"
     },
     "output_type": "display_data"
    }
   ],
   "source": [
    "num_bins = 10\n",
    "\n",
    "fig, ax = plt.subplots()\n",
    "\n",
    "# the histogram of the data\n",
    "n, bins, patches = ax.hist(x, num_bins)\n",
    "\n",
    "# add a 'best fit' line\n",
    "y = ((1 / (np.sqrt(2 * np.pi) * sigma)) *\n",
    "     np.exp(-0.5 * (1 / sigma * (bins - mu))**2))\n",
    "ax.plot(bins, y, '--')\n",
    "ax.set_xlabel('Value')\n",
    "ax.set_ylabel('Frequency')\n",
    "ax.set_title('Mean $\\mu=100$, Variance $\\sigma=15$')\n",
    "\n",
    "# Tweak spacing to prevent clipping of ylabel\n",
    "fig.tight_layout()\n",
    "plt.savefig('histogram-1d.png')\n",
    "plt.show()"
   ]
  },
  {
   "cell_type": "code",
   "execution_count": 85,
   "metadata": {},
   "outputs": [
    {
     "data": {
      "text/plain": [
       "<Figure size 432x288 with 0 Axes>"
      ]
     },
     "metadata": {},
     "output_type": "display_data"
    }
   ],
   "source": []
  },
  {
   "cell_type": "code",
   "execution_count": 73,
   "metadata": {},
   "outputs": [
    {
     "data": {
      "image/png": "[encoded data removed]",
      "text/plain": [
       "<Figure size 432x288 with 1 Axes>"
      ]
     },
     "metadata": {
      "needs_background": "light"
     },
     "output_type": "display_data"
    }
   ],
   "source": [
    "import matplotlib.pyplot as plt\n",
    "\n",
    "fig, ax = plt.subplots(tight_layout=True)\n",
    "x = [1, 2, 3, 4, 1, 4, 4]\n",
    "y = [1, 1, 1, 2, 1, 2, 2]\n",
    "hist = ax.hist2d(x, y)"
   ]
  },
  {
   "cell_type": "code",
   "execution_count": 74,
   "metadata": {},
   "outputs": [],
   "source": [
    "import numpy as np\n",
    "rng = np.random.default_rng()"
   ]
  },
  {
   "cell_type": "code",
   "execution_count": null,
   "metadata": {},
   "outputs": [],
   "source": []
  },
  {
   "cell_type": "code",
   "execution_count": 79,
   "metadata": {},
   "outputs": [
    {
     "data": {
      "image/png": "[encoded data removed]",
      "text/plain": [
       "<Figure size 432x288 with 1 Axes>"
      ]
     },
     "metadata": {
      "needs_background": "light"
     },
     "output_type": "display_data"
    }
   ],
   "source": [
    "fig, ax = plt.subplots(tight_layout=True)\n",
    "# xs = rng.integers(0, 10, 1000)\n",
    "# ys = rng.integers(0, 10, 1000)\n",
    "xs = rng.standard_normal(10000)\n",
    "ys = rng.standard_normal(10000)\n",
    "hist = ax.hist2d(xs, ys)"
   ]
  },
  {
   "cell_type": "code",
   "execution_count": 82,
   "metadata": {},
   "outputs": [],
   "source": [
    "fig.savefig('histogram-2d.png')"
   ]
  },
  {
   "cell_type": "code",
   "execution_count": 83,
   "metadata": {},
   "outputs": [
    {
     "name": "stdout",
     "output_type": "stream",
     "text": [
      " \u001b[0m\u001b[01;34m0.7\u001b[0m/                                mapbox.html\n",
      " \u001b[01;34m0.8\u001b[0m/                               'Restore Functionality 20211019.ipynb'\n",
      " choropleth-20211020.html            target.html\n",
      " choropleth-graffiti-20211020.html   template.html\n",
      " \u001b[01;35mhistogram-2d.png\u001b[0m\n"
     ]
    }
   ],
   "source": [
    "ls"
   ]
  },
  {
   "cell_type": "code",
   "execution_count": 76,
   "metadata": {},
   "outputs": [
    {
     "data": {
      "text/plain": [
       "'<p><em>hello</em></p>'"
      ]
     },
     "execution_count": 76,
     "metadata": {},
     "output_type": "execute_result"
    }
   ],
   "source": [
    "import markdown\n",
    "markdown.markdown('*hello*')"
   ]
  },
  {
   "cell_type": "code",
   "execution_count": 77,
   "metadata": {},
   "outputs": [
    {
     "data": {
      "text/plain": [
       "'/home/rhh/Projects/crosscompute-examples/reports/randomize-histograms'"
      ]
     },
     "execution_count": 77,
     "metadata": {},
     "output_type": "execute_result"
    }
   ],
   "source": [
    "from os.path import expanduser\n",
    "folder = expanduser(\n",
    "    '~/Projects/crosscompute-examples'\n",
    "    '/reports/randomize-histograms')\n",
    "folder"
   ]
  },
  {
   "cell_type": "code",
   "execution_count": 78,
   "metadata": {},
   "outputs": [
    {
     "data": {
      "text/plain": [
       "'/home/rhh/Projects/crosscompute-examples/reports/randomize-histograms/report.md'"
      ]
     },
     "execution_count": 78,
     "metadata": {},
     "output_type": "execute_result"
    }
   ],
   "source": [
    "from os.path import join\n",
    "template_path = join(folder, 'report.md')\n",
    "template_path"
   ]
  },
  {
   "cell_type": "code",
   "execution_count": null,
   "metadata": {},
   "outputs": [],
   "source": [
    "from markdown import markdown\n",
    "print(markdown(open(template_path, 'rt').read()))"
   ]
  },
  {
   "cell_type": "code",
   "execution_count": null,
   "metadata": {},
   "outputs": [],
   "source": [
    "from markdown import markdown\n",
    "markdown('<p></p>')"
   ]
  }
 ],
 "metadata": {
  "kernelspec": {
   "display_name": "Python 3 (ipykernel)",
   "language": "python",
   "name": "python3"
  },
  "language_info": {
   "codemirror_mode": {
    "name": "ipython",
    "version": 3
   },
   "file_extension": ".py",
   "mimetype": "text/x-python",
   "name": "python",
   "nbconvert_exporter": "python",
   "pygments_lexer": "ipython3",
   "version": "3.9.7"
  }
 },
 "nbformat": 4,
 "nbformat_minor": 4
}
