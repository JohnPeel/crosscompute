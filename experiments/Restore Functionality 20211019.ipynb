{
 "cells": [
  {
   "cell_type": "code",
   "execution_count": 5,
   "metadata": {},
   "outputs": [],
   "source": [
    "from crosscompute.scripts import get_configuration_paths_by_format"
   ]
  },
  {
   "cell_type": "code",
   "execution_count": 6,
   "metadata": {},
   "outputs": [
    {
     "data": {
      "text/plain": [
       "{'yaml': ['serve.yml']}"
      ]
     },
     "execution_count": 6,
     "metadata": {},
     "output_type": "execute_result"
    }
   ],
   "source": [
    "examples_folder = '../../crosscompute-examples/reports'\n",
    "configuration_folder = examples_folder + '/show-maps'\n",
    "get_configuration_paths_by_format(configuration_folder)"
   ]
  },
  {
   "cell_type": "code",
   "execution_count": 16,
   "metadata": {},
   "outputs": [],
   "source": [
    "from os.path import join\n",
    "configuration_path = join(configuration_folder, 'serve.yml')"
   ]
  },
  {
   "cell_type": "code",
   "execution_count": 17,
   "metadata": {},
   "outputs": [
    {
     "data": {
      "text/plain": [
       "{'crosscompute': '0.9.0',\n",
       " 'name': 'Show Maps',\n",
       " 'version': '0.0.1',\n",
       " 'input': {'variables': [{'id': 'geometries',\n",
       "    'view': 'map-mapbox',\n",
       "    'path': 'geometries.geojson'}]},\n",
       " 'output': {'variables': [{'id': 'streets',\n",
       "    'view': 'map-mapbox',\n",
       "    'path': 'geometries.geojson',\n",
       "    'settings': [{'style': 'mapbox://styles/mapbox/streets-v11'}]},\n",
       "   {'id': 'outdoors',\n",
       "    'view': 'map-mapbox',\n",
       "    'path': 'geometries.geojson',\n",
       "    'settings': [{'style': 'mapbox://styles/mapbox/outdoors-v11'}]},\n",
       "   {'id': 'light',\n",
       "    'view': 'map-mapbox',\n",
       "    'path': 'geometries.geojson',\n",
       "    'settings': [{'style': 'mapbox://styles/mapbox/light-v10'}]},\n",
       "   {'id': 'dark',\n",
       "    'view': 'map-mapbox',\n",
       "    'path': 'geometries.geojson',\n",
       "    'settings': [{'style': 'mapbox://styles/mapbox/dark-v10'}]},\n",
       "   {'id': 'satellite',\n",
       "    'view': 'map-mapbox',\n",
       "    'path': 'geometries.geojson',\n",
       "    'settings': [{'style': 'mapbox://styles/mapbox/satellite-v9'}]},\n",
       "   {'id': 'satellite-streets',\n",
       "    'view': 'map-mapbox',\n",
       "    'path': 'geometries.geojson',\n",
       "    'settings': [{'style': 'mapbox://styles/mapbox/satellite-streets-v11'}]},\n",
       "   {'id': 'navigation-day',\n",
       "    'view': 'map-mapbox',\n",
       "    'path': 'geometries.geojson',\n",
       "    'settings': [{'style': 'mapbox://styles/mapbox/navigation-day-v1'}]},\n",
       "   {'id': 'navigation-night',\n",
       "    'view': 'map-mapbox',\n",
       "    'path': 'geometries.geojson',\n",
       "    'settings': [{'style': 'mapbox://styles/mapbox/navigation-night-v1'}]}],\n",
       "  'templates': [{'path': 'report.md'}]},\n",
       " 'tests': [{'folder': 'tests/points'}],\n",
       " 'batches': [{'folder': 'batches/usa-maine'}],\n",
       " 'repository': {'uri': 'https://github.com/crosscompute/crosscompute-examples',\n",
       "  'folder': 'reports/show-maps'},\n",
       " 'display': {'style': {'path': 'report.css'},\n",
       "  'layout': 'output',\n",
       "  'format': 'pdf'}}"
      ]
     },
     "execution_count": 17,
     "metadata": {},
     "output_type": "execute_result"
    }
   ],
   "source": [
    "# Load configuration file\n",
    "import yaml\n",
    "d = yaml.safe_load(open(configuration_path, 'rt'))\n",
    "d"
   ]
  },
  {
   "cell_type": "code",
   "execution_count": 19,
   "metadata": {},
   "outputs": [
    {
     "data": {
      "text/plain": [
       "dict_keys(['variables', 'templates'])"
      ]
     },
     "execution_count": 19,
     "metadata": {},
     "output_type": "execute_result"
    }
   ],
   "source": [
    "d['output'].keys()"
   ]
  },
  {
   "cell_type": "code",
   "execution_count": 20,
   "metadata": {},
   "outputs": [
    {
     "data": {
      "text/plain": [
       "[{'id': 'streets',\n",
       "  'view': 'map-mapbox',\n",
       "  'path': 'geometries.geojson',\n",
       "  'settings': [{'style': 'mapbox://styles/mapbox/streets-v11'}]},\n",
       " {'id': 'outdoors',\n",
       "  'view': 'map-mapbox',\n",
       "  'path': 'geometries.geojson',\n",
       "  'settings': [{'style': 'mapbox://styles/mapbox/outdoors-v11'}]},\n",
       " {'id': 'light',\n",
       "  'view': 'map-mapbox',\n",
       "  'path': 'geometries.geojson',\n",
       "  'settings': [{'style': 'mapbox://styles/mapbox/light-v10'}]},\n",
       " {'id': 'dark',\n",
       "  'view': 'map-mapbox',\n",
       "  'path': 'geometries.geojson',\n",
       "  'settings': [{'style': 'mapbox://styles/mapbox/dark-v10'}]},\n",
       " {'id': 'satellite',\n",
       "  'view': 'map-mapbox',\n",
       "  'path': 'geometries.geojson',\n",
       "  'settings': [{'style': 'mapbox://styles/mapbox/satellite-v9'}]},\n",
       " {'id': 'satellite-streets',\n",
       "  'view': 'map-mapbox',\n",
       "  'path': 'geometries.geojson',\n",
       "  'settings': [{'style': 'mapbox://styles/mapbox/satellite-streets-v11'}]},\n",
       " {'id': 'navigation-day',\n",
       "  'view': 'map-mapbox',\n",
       "  'path': 'geometries.geojson',\n",
       "  'settings': [{'style': 'mapbox://styles/mapbox/navigation-day-v1'}]},\n",
       " {'id': 'navigation-night',\n",
       "  'view': 'map-mapbox',\n",
       "  'path': 'geometries.geojson',\n",
       "  'settings': [{'style': 'mapbox://styles/mapbox/navigation-night-v1'}]}]"
      ]
     },
     "execution_count": 20,
     "metadata": {},
     "output_type": "execute_result"
    }
   ],
   "source": [
    "# Get output variables\n",
    "d['output']['variables']"
   ]
  },
  {
   "cell_type": "code",
   "execution_count": 21,
   "metadata": {},
   "outputs": [
    {
     "data": {
      "text/plain": [
       "[{'path': 'report.md'}]"
      ]
     },
     "execution_count": 21,
     "metadata": {},
     "output_type": "execute_result"
    }
   ],
   "source": [
    "d['output']['templates']"
   ]
  },
  {
   "cell_type": "code",
   "execution_count": 22,
   "metadata": {},
   "outputs": [
    {
     "data": {
      "text/plain": [
       "[{'id': 'geometries', 'view': 'map-mapbox', 'path': 'geometries.geojson'}]"
      ]
     },
     "execution_count": 22,
     "metadata": {},
     "output_type": "execute_result"
    }
   ],
   "source": [
    "# Get input variables\n",
    "d['input']['variables']"
   ]
  },
  {
   "cell_type": "code",
   "execution_count": 9,
   "metadata": {},
   "outputs": [],
   "source": [
    "# Inject mapbox elements if map-mapbox exists"
   ]
  },
  {
   "cell_type": "code",
   "execution_count": null,
   "metadata": {},
   "outputs": [],
   "source": []
  }
 ],
 "metadata": {
  "kernelspec": {
   "display_name": "Python 3",
   "language": "python",
   "name": "python3"
  },
  "language_info": {
   "codemirror_mode": {
    "name": "ipython",
    "version": 3
   },
   "file_extension": ".py",
   "mimetype": "text/x-python",
   "name": "python",
   "nbconvert_exporter": "python",
   "pygments_lexer": "ipython3",
   "version": "3.8.10"
  }
 },
 "nbformat": 4,
 "nbformat_minor": 4
}
