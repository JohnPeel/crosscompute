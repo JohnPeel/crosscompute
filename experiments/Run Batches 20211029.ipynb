{
 "cells": [
  {
   "cell_type": "code",
   "execution_count": null,
   "id": "2da8ce21-9cf2-44db-b175-128d6df0818f",
   "metadata": {},
   "outputs": [],
   "source": [
    "# Get configuration path\n",
    "from os.path import join\n",
    "examples_folder = '../../crosscompute-examples/reports'\n",
    "configuration_folder = examples_folder + '/randomize-histograms'\n",
    "configuration_path = join(configuration_folder, 'serve.yml')\n",
    "configuration_path"
   ]
  },
  {
   "cell_type": "code",
   "execution_count": null,
   "id": "eb92761b-80f3-4a36-9178-302431eaaed6",
   "metadata": {},
   "outputs": [],
   "source": [
    "import yaml\n",
    "configuration = yaml.safe_load(open(configuration_path, 'rt'))\n",
    "configuration"
   ]
  },
  {
   "cell_type": "code",
   "execution_count": null,
   "id": "04b7ebc5-b0ad-4743-afd7-2ca35e75107c",
   "metadata": {},
   "outputs": [],
   "source": [
    "# Get batch configurations or batch dictionaries\n",
    "batch_configurations = configuration['batches']\n",
    "batch_configurations"
   ]
  },
  {
   "cell_type": "code",
   "execution_count": null,
   "id": "cb8aa46b-3adc-4c6a-939b-ea7a0efcf42b",
   "metadata": {},
   "outputs": [],
   "source": [
    "batch_configuration = batch_configurations[0]\n",
    "batch_configuration"
   ]
  },
  {
   "cell_type": "code",
   "execution_count": null,
   "id": "5541cbee-e595-4c21-a663-c72bd6f45203",
   "metadata": {},
   "outputs": [],
   "source": [
    "relative_batch_folder = batch_configuration['folder']\n",
    "relative_batch_folder"
   ]
  },
  {
   "cell_type": "code",
   "execution_count": null,
   "id": "754b18dc-b464-4002-94f5-392429701e60",
   "metadata": {},
   "outputs": [],
   "source": [
    "batch_folder = join(configuration_folder, relative_batch_folder)\n",
    "batch_folder"
   ]
  },
  {
   "cell_type": "code",
   "execution_count": null,
   "id": "0b3d1e15-02d2-427f-b9d5-39e798dd04fd",
   "metadata": {},
   "outputs": [],
   "source": [
    "ls $batch_folder"
   ]
  },
  {
   "cell_type": "code",
   "execution_count": null,
   "id": "3ac4ff91-e546-454c-9687-9716200baf5f",
   "metadata": {},
   "outputs": [],
   "source": [
    "input_folder = join(batch_folder, 'input')\n",
    "input_folder"
   ]
  },
  {
   "cell_type": "code",
   "execution_count": null,
   "id": "dc646249-59b8-448c-85a8-26ceac3b59c1",
   "metadata": {},
   "outputs": [],
   "source": [
    "# Get input variable definitions\n",
    "input_variable_definitions = configuration['input']['variables']\n",
    "input_variable_definitions"
   ]
  },
  {
   "cell_type": "code",
   "execution_count": null,
   "id": "f5b5d38e-e6b0-49bc-acb1-001ed93a0f1f",
   "metadata": {},
   "outputs": [],
   "source": [
    "from collections import defaultdict\n",
    "variable_definitions_by_path = defaultdict(list)\n",
    "for d in input_variable_definitions:\n",
    "    path = d['path']\n",
    "    variable_definitions_by_path[path].append(d)\n",
    "variable_definitions_by_path = dict(variable_definitions_by_path)\n",
    "variable_definitions_by_path"
   ]
  },
  {
   "cell_type": "code",
   "execution_count": null,
   "id": "38df4109-90e8-4109-bd5e-51233924d5e5",
   "metadata": {},
   "outputs": [],
   "source": [
    "batch_configuration = {'input': {'variables': []}, 'output': {'variables': []}}\n",
    "batch_configuration"
   ]
  },
  {
   "cell_type": "code",
   "execution_count": null,
   "id": "45e0b92f-2219-4f56-b3f2-25107b3625e6",
   "metadata": {},
   "outputs": [],
   "source": [
    "import json\n",
    "# Set input variable data\n",
    "for relative_path, variable_definitions in variable_definitions_by_path.items():\n",
    "    # TODO: Check path extension\n",
    "    path = join(input_folder, relative_path)\n",
    "    data = json.load(open(path, 'rt'))\n",
    "    for variable_definition in variable_definitions:\n",
    "        variable_id = variable_definition['id']\n",
    "        variable_data = data[variable_id]\n",
    "        \n",
    "        batch_configuration['input']['variables'].append({\n",
    "            'id': variable_id,\n",
    "            'data': variable_data,\n",
    "        })\n",
    "batch_configuration"
   ]
  },
  {
   "cell_type": "code",
   "execution_count": null,
   "id": "54edaa1e-e77e-432d-bdd6-19716285aa17",
   "metadata": {},
   "outputs": [],
   "source": [
    "configuration['script']"
   ]
  },
  {
   "cell_type": "code",
   "execution_count": null,
   "id": "61a73ba3-1c84-48c7-9809-56316340316b",
   "metadata": {},
   "outputs": [],
   "source": [
    "command_string = configuration['script']['command']\n",
    "command_string"
   ]
  },
  {
   "cell_type": "code",
   "execution_count": null,
   "id": "ebf5e90c-574e-4e13-9a7d-13c317ebeacb",
   "metadata": {},
   "outputs": [],
   "source": []
  },
  {
   "cell_type": "code",
   "execution_count": null,
   "id": "129df47d-d87c-495b-8f05-2a9942d03f12",
   "metadata": {},
   "outputs": [],
   "source": [
    "import subprocess\n",
    "subprocess.run"
   ]
  },
  {
   "cell_type": "code",
   "execution_count": null,
   "id": "fbd401ee-c5fa-40cd-b65a-3e46868c4430",
   "metadata": {},
   "outputs": [],
   "source": [
    "# Run each batch\n",
    "# Save output variables\n",
    "# Render each batch as html"
   ]
  }
 ],
 "metadata": {
  "kernelspec": {
   "display_name": "Python 3 (ipykernel)",
   "language": "python",
   "name": "python3"
  },
  "language_info": {
   "codemirror_mode": {
    "name": "ipython",
    "version": 3
   },
   "file_extension": ".py",
   "mimetype": "text/x-python",
   "name": "python",
   "nbconvert_exporter": "python",
   "pygments_lexer": "ipython3",
   "version": "3.9.7"
  }
 },
 "nbformat": 4,
 "nbformat_minor": 5
}
