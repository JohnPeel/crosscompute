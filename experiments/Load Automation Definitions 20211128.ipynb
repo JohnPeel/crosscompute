{
 "cells": [
  {
   "cell_type": "code",
   "execution_count": null,
   "id": "a0d7fb86-9878-44a8-a943-93fad42e442c",
   "metadata": {},
   "outputs": [],
   "source": [
    "from os.path import expanduser\n",
    "configuration_path = expanduser('~/Projects/crosscompute-examples/serve.yml')\n",
    "configuration_path"
   ]
  },
  {
   "cell_type": "code",
   "execution_count": null,
   "id": "b60e078d-ad20-4648-996b-2b1bcd72aad0",
   "metadata": {},
   "outputs": [],
   "source": [
    "from crosscompute.routines.configuration import load_configuration\n",
    "configuration = load_configuration(configuration_path)\n",
    "configuration"
   ]
  },
  {
   "cell_type": "code",
   "execution_count": null,
   "id": "4c0b4253-f5d4-4f5e-8cb1-2a8be8a365ee",
   "metadata": {},
   "outputs": [],
   "source": [
    "from os.path import dirname\n",
    "configuration_folder = dirname(configuration_path)\n",
    "configuration_folder"
   ]
  },
  {
   "cell_type": "code",
   "execution_count": null,
   "id": "d1ced1aa-13ed-46ff-99a8-99299ae316b2",
   "metadata": {},
   "outputs": [],
   "source": [
    "configuration['imports']"
   ]
  },
  {
   "cell_type": "code",
   "execution_count": null,
   "id": "6eefce5a-03be-4f83-9db1-950a3af8e611",
   "metadata": {},
   "outputs": [],
   "source": [
    "from crosscompute.constants import BATCH_ROUTE\n",
    "from os.path import basename\n",
    "\n",
    "def get_batch_definitions(configuration):\n",
    "    batch_definitions = []\n",
    "    for batch_definition in configuration.get('batches', []):\n",
    "        try:\n",
    "            batch_folder = batch_definition['folder']\n",
    "        except KeyError:\n",
    "            logging.error('folder required for each batch')\n",
    "            continue\n",
    "        batch_name = batch_definition.get(\n",
    "            'name', basename(batch_folder))\n",
    "        batch_slug = batch_definition.get(\n",
    "            'slug', get_slug_from_name(batch_name))\n",
    "        batch_uri = BATCH_ROUTE.format(\n",
    "            batch_slug=batch_slug)\n",
    "        batch_definitions.append({\n",
    "            'name': batch_name,\n",
    "            'slug': batch_slug,\n",
    "            'uri': batch_uri,\n",
    "            'folder': batch_folder,\n",
    "        })\n",
    "    return batch_definitions"
   ]
  },
  {
   "cell_type": "code",
   "execution_count": null,
   "id": "2300d742-1432-4258-968c-1ff7e898c634",
   "metadata": {},
   "outputs": [],
   "source": [
    "from crosscompute.constants import AUTOMATION_NAME, AUTOMATION_ROUTE\n",
    "from crosscompute.macros import get_slug_from_name\n",
    "from os.path import join\n",
    "\n",
    "def get_automation_definitions(configuration, configuration_folder):\n",
    "    automation_configurations = [configuration]\n",
    "    for import_configuration in configuration.get('imports', []):\n",
    "        if 'path' in import_configuration:\n",
    "            c = load_configuration(join(configuration_folder, import_configuration['path']))\n",
    "        else:\n",
    "            continue\n",
    "        automation_configurations.append(c)\n",
    "        \n",
    "    automation_definitions = []\n",
    "    for automation_configuration in automation_configurations:\n",
    "        if 'output' not in automation_configuration:\n",
    "            continue\n",
    "        automation_name = automation_configuration.get(\n",
    "            'name', AUTOMATION_NAME.format(automation_index=0))\n",
    "        automation_slug = automation_configuration.get(\n",
    "            'slug', get_slug_from_name(automation_name))\n",
    "        automation_uri = AUTOMATION_ROUTE.format(\n",
    "            automation_slug=automation_slug)\n",
    "        automation_definitions.append({\n",
    "            'name': automation_name,\n",
    "            'slug': automation_slug,\n",
    "            'uri': automation_uri,\n",
    "            'batches': get_batch_definitions(automation_configuration),\n",
    "        })\n",
    "    return automation_definitions\n",
    "\n",
    "automation_definitions = get_automation_definitions(configuration, configuration_folder)\n",
    "automation_definitions"
   ]
  }
 ],
 "metadata": {
  "kernelspec": {
   "display_name": "Python 3 (ipykernel)",
   "language": "python",
   "name": "python3"
  },
  "language_info": {
   "codemirror_mode": {
    "name": "ipython",
    "version": 3
   },
   "file_extension": ".py",
   "mimetype": "text/x-python",
   "name": "python",
   "nbconvert_exporter": "python",
   "pygments_lexer": "ipython3",
   "version": "3.9.7"
  }
 },
 "nbformat": 4,
 "nbformat_minor": 5
}
