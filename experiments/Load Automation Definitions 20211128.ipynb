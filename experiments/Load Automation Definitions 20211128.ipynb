{
 "cells": [
  {
   "cell_type": "code",
   "execution_count": 1,
   "id": "a0d7fb86-9878-44a8-a943-93fad42e442c",
   "metadata": {},
   "outputs": [
    {
     "data": {
      "text/plain": [
       "'/home/invisibleroads/Projects/crosscompute-examples/serve.yml'"
      ]
     },
     "execution_count": 1,
     "metadata": {},
     "output_type": "execute_result"
    }
   ],
   "source": [
    "from os.path import expanduser\n",
    "configuration_path = expanduser('~/Projects/crosscompute-examples/serve.yml')\n",
    "configuration_path"
   ]
  },
  {
   "cell_type": "code",
   "execution_count": 9,
   "id": "b97e6cc9-bc20-47d1-a7aa-5dd8327f2e53",
   "metadata": {},
   "outputs": [
    {
     "data": {
      "text/plain": [
       "{'crosscompute': '0.9.0',\n",
       " 'imports': [{'path': 'reports/randomize-histograms/serve.yml'},\n",
       "  {'path': 'reports/show-maps/serve.yml'}]}"
      ]
     },
     "execution_count": 9,
     "metadata": {},
     "output_type": "execute_result"
    }
   ],
   "source": [
    "import yaml\n",
    "configuration = yaml.safe_load(open(configuration_path, 'rt'))\n",
    "configuration"
   ]
  },
  {
   "cell_type": "code",
   "execution_count": 10,
   "id": "4c0b4253-f5d4-4f5e-8cb1-2a8be8a365ee",
   "metadata": {},
   "outputs": [
    {
     "data": {
      "text/plain": [
       "'/home/invisibleroads/Projects/crosscompute-examples'"
      ]
     },
     "execution_count": 10,
     "metadata": {},
     "output_type": "execute_result"
    }
   ],
   "source": [
    "from os.path import dirname\n",
    "configuration_folder = dirname(configuration_path)\n",
    "configuration_folder"
   ]
  },
  {
   "cell_type": "code",
   "execution_count": 8,
   "id": "d1ced1aa-13ed-46ff-99a8-99299ae316b2",
   "metadata": {},
   "outputs": [
    {
     "data": {
      "text/plain": [
       "[{'path': 'reports/randomize-histograms/serve.yml'},\n",
       " {'path': 'reports/show-maps/serve.yml'}]"
      ]
     },
     "execution_count": 8,
     "metadata": {},
     "output_type": "execute_result"
    }
   ],
   "source": [
    "configuration['imports']"
   ]
  },
  {
   "cell_type": "code",
   "execution_count": 11,
   "id": "2300d742-1432-4258-968c-1ff7e898c634",
   "metadata": {},
   "outputs": [],
   "source": [
    "def get_automation_definitions(configuration, configuration_folder):\n",
    "    automation_definitions = []\n",
    "    \n",
    "    return automation_definitions\n",
    "\n",
    "automation_definitions = get_automation_definitions(configuration, configuration_folder)\n",
    "automation_definitions"
   ]
  },
  {
   "cell_type": "code",
   "execution_count": null,
   "id": "c1b0a08f-fad7-41ef-ba7e-69c8bdcccecf",
   "metadata": {},
   "outputs": [],
   "source": [
    "automation_name = configuration.get(\n",
    "    'name', AUTOMATION_NAME.format(automation_index=0))\n",
    "automation_slug = get_slug_from_name(automation_name)\n",
    "automation_uri = AUTOMATION_ROUTE.format(\n",
    "    automation_slug=automation_slug)\n",
    "\n",
    "batch_definitions = []\n",
    "for batch_definition in configuration.get('batches', []):\n",
    "    try:\n",
    "        batch_folder = batch_definition['folder']\n",
    "    except KeyError:\n",
    "        logging.error('folder required for each batch')\n",
    "        continue\n",
    "    batch_name = batch_definition.get('name', basename(batch_folder))\n",
    "    batch_slug = get_slug_from_name(batch_name)\n",
    "    batch_uri = BATCH_ROUTE.format(batch_slug=batch_slug)\n",
    "    batch_definitions.append({\n",
    "        'name': batch_name,\n",
    "        'slug': batch_slug,\n",
    "        'uri': batch_uri,\n",
    "        'folder': batch_folder,\n",
    "    })\n",
    "\n",
    "automation_definitions.append({\n",
    "    'name': automation_name,\n",
    "    'slug': automation_slug,\n",
    "    'uri': automation_uri,\n",
    "    'batches': batch_definitions,\n",
    "})\n"
   ]
  }
 ],
 "metadata": {
  "kernelspec": {
   "display_name": "Python 3 (ipykernel)",
   "language": "python",
   "name": "python3"
  },
  "language_info": {
   "codemirror_mode": {
    "name": "ipython",
    "version": 3
   },
   "file_extension": ".py",
   "mimetype": "text/x-python",
   "name": "python",
   "nbconvert_exporter": "python",
   "pygments_lexer": "ipython3",
   "version": "3.9.5"
  }
 },
 "nbformat": 4,
 "nbformat_minor": 5
}
