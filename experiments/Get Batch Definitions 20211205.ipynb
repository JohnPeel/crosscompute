{
 "cells": [
  {
   "cell_type": "code",
   "execution_count": 74,
   "id": "dfa37168-be75-47ce-94c3-5de19d15bdd6",
   "metadata": {},
   "outputs": [
    {
     "data": {
      "text/plain": [
       "{'crosscompute': '0.9.0',\n",
       " 'name': 'Ask Question',\n",
       " 'version': '0.0.1',\n",
       " 'input': {'variables': [{'id': 'question',\n",
       "    'view': 'string',\n",
       "    'path': 'question.txt'}]},\n",
       " 'output': {'variables': [{'id': 'response',\n",
       "    'view': 'markdown',\n",
       "    'path': 'response.md'}]},\n",
       " 'tests': [{'folder': 'tests/standard'}],\n",
       " 'batches': [{'name': '{question}',\n",
       "   'folder': 'batches/{id}',\n",
       "   'configuration': {'path': 'datasets/questions.csv'}}],\n",
       " 'script': {'folder': '.',\n",
       "  'command': 'python -c \"$(jupyter nbconvert run.ipynb --to script --stdout)\"'},\n",
       " 'display': {'layout': 'input'}}"
      ]
     },
     "execution_count": 74,
     "metadata": {},
     "output_type": "execute_result"
    }
   ],
   "source": [
    "import yaml\n",
    "from os.path import join\n",
    "\n",
    "examples_folder = '../../crosscompute-examples/tools'\n",
    "configuration_folder = examples_folder + '/ask-question'\n",
    "# examples_folder = '../../crosscompute-examples/widgets'\n",
    "# configuration_folder = examples_folder + '/paint-letters'\n",
    "# examples_folder = '../../crosscompute-examples/reports'\n",
    "# configuration_folder = examples_folder + '/randomize-histograms'\n",
    "configuration_path = join(configuration_folder, 'serve.yml')\n",
    "configuration = yaml.safe_load(open(configuration_path, 'rt'))\n",
    "configuration"
   ]
  },
  {
   "cell_type": "code",
   "execution_count": 75,
   "id": "e0bdb65f-5bcb-4d12-8653-48a7a3aa2779",
   "metadata": {},
   "outputs": [
    {
     "data": {
      "text/plain": [
       "[{'name': '{question}',\n",
       "  'folder': 'batches/{id}',\n",
       "  'configuration': {'path': 'datasets/questions.csv'}}]"
      ]
     },
     "execution_count": 75,
     "metadata": {},
     "output_type": "execute_result"
    }
   ],
   "source": [
    "raw_batch_definitions = configuration.get('batches', [])\n",
    "raw_batch_definitions"
   ]
  },
  {
   "cell_type": "code",
   "execution_count": 76,
   "id": "bbb2447e-7398-4099-aa0d-6732a39d5333",
   "metadata": {},
   "outputs": [
    {
     "data": {
      "text/plain": [
       "{'slug': <function crosscompute.macros.web.format_slug(text)>}"
      ]
     },
     "execution_count": 76,
     "metadata": {},
     "output_type": "execute_result"
    }
   ],
   "source": [
    "from crosscompute.macros import format_slug\n",
    "FUNCTION_BY_NAME = {'slug': format_slug}\n",
    "FUNCTION_BY_NAME"
   ]
  },
  {
   "cell_type": "code",
   "execution_count": 77,
   "id": "34b3d4b3-723f-47ee-9474-b188a0c4027d",
   "metadata": {},
   "outputs": [
    {
     "data": {
      "text/plain": [
       "[{'id': 'question', 'view': 'string', 'path': 'question.txt'}]"
      ]
     },
     "execution_count": 77,
     "metadata": {},
     "output_type": "execute_result"
    }
   ],
   "source": [
    "from crosscompute.routines.configuration import get_raw_variable_definitions\n",
    "input_variable_definitions = get_raw_variable_definitions(configuration, 'input')\n",
    "input_variable_definitions"
   ]
  },
  {
   "cell_type": "code",
   "execution_count": 78,
   "id": "cd23235e-491d-4640-ae77-7c27e6b8a93d",
   "metadata": {},
   "outputs": [
    {
     "data": {
      "text/plain": [
       "['x | slug']"
      ]
     },
     "execution_count": 78,
     "metadata": {},
     "output_type": "execute_result"
    }
   ],
   "source": [
    "import re\n",
    "FILTER_PATTERN = re.compile(r'{\\s*([^}]+\\|[^}]+?)\\s*}')\n",
    "FILTER_PATTERN.findall('{ x | slug } - {y} - {one}')"
   ]
  },
  {
   "cell_type": "code",
   "execution_count": 79,
   "id": "a4f9401d-f2bd-44a7-bd40-2aae91eb4c2b",
   "metadata": {},
   "outputs": [
    {
     "data": {
      "text/plain": [
       "['x | slug', 'y', 'one']"
      ]
     },
     "execution_count": 79,
     "metadata": {},
     "output_type": "execute_result"
    }
   ],
   "source": [
    "VARIABLE_ID_PATTERN = re.compile(r'{\\s*([^}]+?)\\s*}')\n",
    "keys = VARIABLE_ID_PATTERN.findall('{ x | slug } {y} {one} {}')\n",
    "keys"
   ]
  },
  {
   "cell_type": "code",
   "execution_count": 80,
   "id": "3992f17a-2ed6-463f-ac24-05ae6c4f7c69",
   "metadata": {},
   "outputs": [
    {
     "data": {
      "text/plain": [
       "['y']"
      ]
     },
     "execution_count": 80,
     "metadata": {},
     "output_type": "execute_result"
    }
   ],
   "source": [
    "'y'.split('|')"
   ]
  },
  {
   "cell_type": "code",
   "execution_count": 83,
   "id": "04f61486-bb56-485e-86ed-d63e7d82e9ea",
   "metadata": {},
   "outputs": [],
   "source": [
    "data_by_id = {'x': 'AAA BBB', 'y': 'YYY'}"
   ]
  },
  {
   "cell_type": "code",
   "execution_count": 84,
   "id": "f4814b78-cdb2-4d97-b442-498499cea3a8",
   "metadata": {},
   "outputs": [
    {
     "data": {
      "text/plain": [
       "'pple'"
      ]
     },
     "execution_count": 84,
     "metadata": {},
     "output_type": "execute_result"
    }
   ],
   "source": [
    "'apple'[1:]"
   ]
  },
  {
   "cell_type": "code",
   "execution_count": 85,
   "id": "629e2cc9-e835-4d7c-9be5-50cda8e05e4e",
   "metadata": {},
   "outputs": [
    {
     "data": {
      "text/plain": [
       "['a', '', 'b']"
      ]
     },
     "execution_count": 85,
     "metadata": {},
     "output_type": "execute_result"
    }
   ],
   "source": [
    "'a||b'.split('|')"
   ]
  },
  {
   "cell_type": "code",
   "execution_count": 86,
   "id": "afcd9dc1-710c-41d0-9b10-4e91440d800e",
   "metadata": {},
   "outputs": [
    {
     "name": "stderr",
     "output_type": "stream",
     "text": [
      "WARNING:root:one missing in batch configuration\n"
     ]
    },
    {
     "data": {
      "text/plain": [
       "'aaa-bbb YYY {one} {}'"
      ]
     },
     "execution_count": 86,
     "metadata": {},
     "output_type": "execute_result"
    }
   ],
   "source": [
    "import logging\n",
    "\n",
    "def render_text(match):\n",
    "    matching_text = match.group(0)\n",
    "    expression_text = match.group(1)\n",
    "    if expression_text in data_by_id:\n",
    "        text = data_by_id[expression_text]\n",
    "    elif '|' in expression_text:\n",
    "        expression_terms = expression_text.split('|')\n",
    "        variable_id = expression_terms[0].strip()\n",
    "        try:\n",
    "            text = data_by_id[variable_id]\n",
    "        except KeyError:\n",
    "            logging.warning(\n",
    "                '%s missing in batch configuration',\n",
    "                variable_id)\n",
    "        for function_name in expression_terms[1:]:\n",
    "            function_name = function_name.strip()\n",
    "            if not function_name:\n",
    "                continue\n",
    "            try:\n",
    "                f = FUNCTION_BY_NAME[function_name]\n",
    "            except KeyError:\n",
    "                logging.error(\n",
    "                    '%s not supported in %s', function_name, expression_text)\n",
    "                continue\n",
    "            text = f(text)\n",
    "    else:\n",
    "        logging.warning(\n",
    "            '%s missing in batch configuration',\n",
    "            expression_text)\n",
    "        text = matching_text\n",
    "    return text\n",
    "\n",
    "VARIABLE_ID_PATTERN.sub(render_text, '{ x | slug } {y} {one} {}')"
   ]
  },
  {
   "cell_type": "code",
   "execution_count": 95,
   "id": "f7820ce1-21dc-4aab-b5d5-5e669e22c734",
   "metadata": {},
   "outputs": [
    {
     "data": {
      "text/plain": [
       "'one-two'"
      ]
     },
     "execution_count": 95,
     "metadata": {},
     "output_type": "execute_result"
    }
   ],
   "source": [
    "def format_text(text, data_by_id):\n",
    "    if not data_by_id:\n",
    "        return text\n",
    "    \n",
    "    if None in data_by_id:\n",
    "        render_text = data_by_id[None]\n",
    "    else:\n",
    "    \n",
    "        def render_text(match):\n",
    "            matching_text = match.group(0)\n",
    "            expression_text = match.group(1)\n",
    "            if expression_text in data_by_id:\n",
    "                text = data_by_id[expression_text]\n",
    "            elif '|' in expression_text:\n",
    "                expression_terms = expression_text.split('|')\n",
    "                variable_id = expression_terms[0].strip()\n",
    "                try:\n",
    "                    text = data_by_id[variable_id]\n",
    "                except KeyError:\n",
    "                    logging.warning(\n",
    "                        '%s missing in batch configuration',\n",
    "                        variable_id)\n",
    "                for function_name in expression_terms[1:]:\n",
    "                    function_name = function_name.strip()\n",
    "                    if not function_name:\n",
    "                        continue\n",
    "                    try:\n",
    "                        f = FUNCTION_BY_NAME[function_name]\n",
    "                    except KeyError:\n",
    "                        logging.error(\n",
    "                            '%s not supported in %s', function_name, expression_text)\n",
    "                        continue\n",
    "                    text = f(text)\n",
    "            else:\n",
    "                logging.warning(\n",
    "                    '%s missing in batch configuration',\n",
    "                    expression_text)\n",
    "                text = matching_text\n",
    "            return text\n",
    "\n",
    "    return VARIABLE_ID_PATTERN.sub(render_text, text)\n",
    "\n",
    "format_text('{x | slug}', {'x': 'one two'})"
   ]
  },
  {
   "cell_type": "code",
   "execution_count": 88,
   "id": "8645dcf6-87d5-4060-9bce-6abdad70f268",
   "metadata": {},
   "outputs": [
    {
     "data": {
      "text/plain": [
       "{'folder': 'batches/a', 'name': 'a', 'slug': 'a', 'uri': '/b/a'}"
      ]
     },
     "execution_count": 88,
     "metadata": {},
     "output_type": "execute_result"
    }
   ],
   "source": [
    "from crosscompute.constants import BATCH_ROUTE\n",
    "from crosscompute.macros import format_slug\n",
    "\n",
    "def make_batch_definition(folder, name, slug, data_by_id=None):\n",
    "    rendered_folder = format_text(folder, data_by_id)\n",
    "    rendered_name = format_text(name, data_by_id)\n",
    "    rendered_slug = format_text(\n",
    "        slug, data_by_id) if slug else format_slug(rendered_name)\n",
    "    rendered_uri = BATCH_ROUTE.format(batch_slug=rendered_slug)\n",
    "    return {\n",
    "        'folder': rendered_folder,\n",
    "        'name': rendered_name,\n",
    "        'slug': rendered_slug,\n",
    "        'uri': rendered_uri,\n",
    "    }\n",
    "\n",
    "make_batch_definition('batches/{x | slug}', '{x}', '', {'x': 'a'})"
   ]
  },
  {
   "cell_type": "code",
   "execution_count": null,
   "id": "7b1fab4e-c0cf-4523-bdd3-990eef7d615f",
   "metadata": {},
   "outputs": [],
   "source": [
    "from crosscompute.exceptions import CrossComputeConfigurationError\n",
    "\n",
    "def yield_data_by_id_from_text_path(text_path, variable_definitions):\n",
    "    if len(variable_definitions) > 1:\n",
    "        raise CrossComputeConfigurationError(\n",
    "            'use .csv to configure multiple variables')\n",
    "        \n",
    "    try:\n",
    "        variable_id = variable_definitions[0]['id']\n",
    "    except IndexError:\n",
    "        variable_id = None\n",
    "        \n",
    "    try:\n",
    "    except OSError:\n",
    "        pass\n",
    "    \n",
    "    with open(join(configuration_folder, batch_configuration_path), 'rt') as batch_configuration_file:\n",
    "        for line in batch_configuration_file:\n",
    "            line = line.strip()\n",
    "            if line.startswith('#'):\n",
    "                continue\n",
    "            variable_data_by_id = {variable_id: line}\n",
    "            batch_definitions.append(make_batch_definition(\n",
    "                batch_folder, batch_name, batch_slug, variable_data_by_id))\n",
    "    "
   ]
  },
  {
   "cell_type": "code",
   "execution_count": 90,
   "id": "099b6134-a6e2-46f8-b876-f1fb468150f3",
   "metadata": {},
   "outputs": [
    {
     "name": "stderr",
     "output_type": "stream",
     "text": [
      "ERROR:root:.csv not supported; use .txt or .csv to configure batch\n"
     ]
    },
    {
     "data": {
      "text/plain": [
       "[]"
      ]
     },
     "execution_count": 90,
     "metadata": {},
     "output_type": "execute_result"
    }
   ],
   "source": [
    "import logging\n",
    "from crosscompute.macros import format_slug\n",
    "from crosscompute.routines.configuration import get_scalar_text\n",
    "from os.path import basename, splitext\n",
    "\n",
    "batch_definitions = []\n",
    "for raw_batch_definition in raw_batch_definitions:\n",
    "    try:\n",
    "        batch_folder = get_scalar_text(raw_batch_definition, 'folder')\n",
    "    except KeyError:\n",
    "        logging.error('folder required for each batch')\n",
    "        continue\n",
    "    batch_name = get_scalar_text(raw_batch_definition, 'name', basename(batch_folder))\n",
    "    batch_slug = get_scalar_text(raw_batch_definition, 'slug', '')\n",
    "    if 'configuration' in raw_batch_definition:\n",
    "        try:\n",
    "            batch_configuration = raw_batch_definition['configuration']\n",
    "            if 'path' in batch_configuration:\n",
    "                batch_configuration_path = batch_configuration['path']\n",
    "                batch_configuration_extension = splitext(batch_configuration_path)[1]\n",
    "                if batch_configuration_extension == '.txt':\n",
    "                    batch_definitions.extend(make_batch_definition(\n",
    "                        batch_folder, batch_name, batch_slug, _,\n",
    "                    ) for _ in yield_data_by_id_from_txt(join(\n",
    "                        configuration_folder, batch_configuration_path,\n",
    "                    ), input_variable_definitions)                    \n",
    "                # elif batch_configuration_extension == '.csv':  \n",
    "                else:\n",
    "                    raise CrossComputeConfigurationError(\n",
    "                        f'{batch_configuration_extension} not supported for '\n",
    "                        'batch configuration; use .txt or .csv')\n",
    "            except CrossComputeError as e:\n",
    "                logging.error(e)\n",
    "        else:\n",
    "            logging.error('path expected for each batch configuration')\n",
    "    else:\n",
    "        batch_definitions.append(make_batch_definition(batch_folder, batch_name, batch_slug))\n",
    "batch_definitions"
   ]
  }
 ],
 "metadata": {
  "kernelspec": {
   "display_name": "Python 3 (ipykernel)",
   "language": "python",
   "name": "python3"
  },
  "language_info": {
   "codemirror_mode": {
    "name": "ipython",
    "version": 3
   },
   "file_extension": ".py",
   "mimetype": "text/x-python",
   "name": "python",
   "nbconvert_exporter": "python",
   "pygments_lexer": "ipython3",
   "version": "3.9.9"
  }
 },
 "nbformat": 4,
 "nbformat_minor": 5
}
