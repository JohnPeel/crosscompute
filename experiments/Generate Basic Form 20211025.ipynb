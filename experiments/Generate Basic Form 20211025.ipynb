{
 "cells": [
  {
   "cell_type": "code",
   "execution_count": null,
   "id": "6e77b886-72fe-45f9-bfb6-666b19164fe9",
   "metadata": {},
   "outputs": [],
   "source": [
    "# Get configuration path\n",
    "from os.path import join\n",
    "examples_folder = '../../crosscompute-examples/reports'\n",
    "configuration_folder = examples_folder + '/randomize-histograms'\n",
    "configuration_path = join(configuration_folder, 'serve.yml')\n",
    "configuration_path"
   ]
  },
  {
   "cell_type": "code",
   "execution_count": null,
   "id": "ff5333aa-ecba-459b-996f-47e45cae12df",
   "metadata": {},
   "outputs": [],
   "source": [
    "# Load configuration\n",
    "import yaml\n",
    "d = automation_configuration = yaml.safe_load(open(configuration_path, 'rt'))\n",
    "d"
   ]
  },
  {
   "cell_type": "code",
   "execution_count": null,
   "id": "7221c813-c6a7-4f72-bc22-54a453ffaa30",
   "metadata": {},
   "outputs": [],
   "source": [
    "# Get input variable definitions\n",
    "input_variable_definitions = d['input']['variables']\n",
    "input_variable_definitions"
   ]
  },
  {
   "cell_type": "code",
   "execution_count": null,
   "id": "b7c74988-b2bb-4efe-b7ee-16aeb0bb5cee",
   "metadata": {},
   "outputs": [],
   "source": [
    "batch_definition = d['batches'][0]\n",
    "batch_definition"
   ]
  },
  {
   "cell_type": "code",
   "execution_count": null,
   "id": "ef16eb76-a5e2-43d4-b75d-0989659c707a",
   "metadata": {},
   "outputs": [],
   "source": [
    "relative_batch_folder = batch_definition['folder']\n",
    "relative_batch_folder"
   ]
  },
  {
   "cell_type": "code",
   "execution_count": null,
   "id": "48e48791-b5bb-4352-83a1-01b48c840360",
   "metadata": {},
   "outputs": [],
   "source": [
    "from os.path import join\n",
    "batch_folder = join(configuration_folder, relative_batch_folder)\n",
    "batch_folder"
   ]
  },
  {
   "cell_type": "code",
   "execution_count": null,
   "id": "fdbed4f5-2347-4c5c-8b02-b3a7a0565a15",
   "metadata": {},
   "outputs": [],
   "source": [
    "ls $batch_folder"
   ]
  },
  {
   "cell_type": "code",
   "execution_count": null,
   "id": "dd04b39a-67e9-409a-8a8c-f664327e107b",
   "metadata": {},
   "outputs": [],
   "source": [
    "# _ input_batch_folder\n",
    "# batch_input_folder\n",
    "\n",
    "input_folder = join(batch_folder, 'input')\n",
    "input_folder"
   ]
  },
  {
   "cell_type": "code",
   "execution_count": null,
   "id": "b2606886-4414-4781-8e1d-2d0ae93432d6",
   "metadata": {},
   "outputs": [],
   "source": [
    "ls $input_folder"
   ]
  },
  {
   "cell_type": "code",
   "execution_count": null,
   "id": "4e57d61d-d0ee-4a06-9644-b1c6db7f4ce4",
   "metadata": {},
   "outputs": [],
   "source": [
    "cat $input_folder/variables.json"
   ]
  },
  {
   "cell_type": "code",
   "execution_count": null,
   "id": "3eeb38b3-ee7f-47e0-a9fa-1907791790e5",
   "metadata": {},
   "outputs": [],
   "source": [
    "relative_variable_path = 'variables.json'"
   ]
  },
  {
   "cell_type": "code",
   "execution_count": null,
   "id": "45cdb875-6d89-467a-8941-391cbd61ec74",
   "metadata": {},
   "outputs": [],
   "source": [
    "variable_path = join(input_folder, relative_variable_path)\n",
    "variable_path"
   ]
  },
  {
   "cell_type": "code",
   "execution_count": null,
   "id": "43777d08-15d0-4668-807e-68ced23cfaad",
   "metadata": {},
   "outputs": [],
   "source": [
    "import json\n",
    "data_dictionary = json.load(open(variable_path, 'rt'))\n",
    "data_dictionary"
   ]
  },
  {
   "cell_type": "code",
   "execution_count": null,
   "id": "81cba1a7-59c9-47b9-9c42-1223ada7cae6",
   "metadata": {},
   "outputs": [],
   "source": [
    "from collections import defaultdict\n",
    "variable_definitions_by_path = defaultdict(list)\n",
    "for d in input_variable_definitions:\n",
    "    path = d['path']\n",
    "    variable_definitions_by_path[path].append(d)\n",
    "variable_definitions_by_path = dict(variable_definitions_by_path)\n",
    "variable_definitions_by_path"
   ]
  },
  {
   "cell_type": "code",
   "execution_count": null,
   "id": "31bee258-f2e4-4ef1-a11e-239204ab9c43",
   "metadata": {},
   "outputs": [],
   "source": [
    "batch_configuration = {'input': {'variables': []}, 'output': {'variables': []}}\n",
    "batch_configuration"
   ]
  },
  {
   "cell_type": "code",
   "execution_count": null,
   "id": "593b3b08-49b0-4193-86ff-87a24047583f",
   "metadata": {},
   "outputs": [],
   "source": [
    "# Set input variable data\n",
    "for relative_path, variable_definitions in variable_definitions_by_path.items():\n",
    "    # TODO: Check path extension\n",
    "    path = join(input_folder, relative_path)\n",
    "    data = json.load(open(path, 'rt'))\n",
    "    for variable_definition in variable_definitions:\n",
    "        variable_id = variable_definition['id']\n",
    "        variable_data = data[variable_id]\n",
    "        \n",
    "        batch_configuration['input']['variables'].append({\n",
    "            'id': variable_id,\n",
    "            'data': variable_data,\n",
    "        })\n",
    "batch_configuration"
   ]
  },
  {
   "cell_type": "code",
   "execution_count": null,
   "id": "0d36b31f-8541-43e8-b995-32c6aa157df1",
   "metadata": {},
   "outputs": [],
   "source": [
    "# Load input template -- we have no template! so we render the default form\n",
    "automation_configuration['input']"
   ]
  },
  {
   "cell_type": "code",
   "execution_count": null,
   "id": "9ad44752-438e-4b9b-bb04-1ea5bc779a16",
   "metadata": {},
   "outputs": [],
   "source": [
    "automation_configuration['input']['variables']"
   ]
  },
  {
   "cell_type": "code",
   "execution_count": null,
   "id": "a44c6c60-d0ac-4d0d-9f49-47bf602d3677",
   "metadata": {},
   "outputs": [],
   "source": [
    "input_variable_ids = [_['id'] for _ in automation_configuration['input']['variables']]\n",
    "input_variable_ids"
   ]
  },
  {
   "cell_type": "code",
   "execution_count": null,
   "id": "b85fa9d4-153c-4abc-b2fe-29a664674d18",
   "metadata": {},
   "outputs": [],
   "source": [
    "timeit '{}'.format(1)"
   ]
  },
  {
   "cell_type": "code",
   "execution_count": null,
   "id": "70d9a478-4b0b-408b-a125-ccd96ac517bb",
   "metadata": {},
   "outputs": [],
   "source": [
    "timeit '%s' % 1"
   ]
  },
  {
   "cell_type": "code",
   "execution_count": null,
   "id": "f7f45fc1-e4ff-499b-a976-fc1df11f9571",
   "metadata": {},
   "outputs": [],
   "source": [
    "x = 1"
   ]
  },
  {
   "cell_type": "code",
   "execution_count": null,
   "id": "1fb4c911-0bb0-4879-8bff-101a5576c504",
   "metadata": {},
   "outputs": [],
   "source": [
    "timeit f'{x}' "
   ]
  },
  {
   "cell_type": "code",
   "execution_count": null,
   "id": "436f43e3-2257-4a54-83b3-1f8084312190",
   "metadata": {},
   "outputs": [],
   "source": [
    "x = 'a'"
   ]
  },
  {
   "cell_type": "code",
   "execution_count": null,
   "id": "e1e4c461-8eed-4e4f-846d-292adac3d7ae",
   "metadata": {},
   "outputs": [],
   "source": [
    "timeit '{' + x + '}'"
   ]
  },
  {
   "cell_type": "code",
   "execution_count": null,
   "id": "b595ec56-5f29-4931-bee6-52e65ecdb169",
   "metadata": {},
   "outputs": [],
   "source": [
    "['{' + _ + '}' for _ in input_variable_ids]"
   ]
  },
  {
   "cell_type": "code",
   "execution_count": null,
   "id": "e20d75e8-f890-4c2d-84fe-fde297f3a909",
   "metadata": {},
   "outputs": [],
   "source": [
    "template_markdown = ' '.join('{' + _ + '}' for _ in input_variable_ids)\n",
    "template_markdown"
   ]
  },
  {
   "cell_type": "code",
   "execution_count": null,
   "id": "e7fad99a-2db6-46d6-a580-66e1724807ea",
   "metadata": {},
   "outputs": [],
   "source": [
    "import re\n",
    "re.sub(r'a', 'b', 'apple apple')"
   ]
  },
  {
   "cell_type": "code",
   "execution_count": null,
   "id": "6fc36ed4-95bd-4276-ad79-cf3ce66462c6",
   "metadata": {},
   "outputs": [],
   "source": [
    "re.search(r'{\\s*mean\\s*}', '{ mean }')"
   ]
  },
  {
   "cell_type": "code",
   "execution_count": null,
   "id": "e2f1ce88-ee67-41e0-aeaa-82d31f9a1414",
   "metadata": {},
   "outputs": [],
   "source": [
    "variable_definitions = automation_configuration['input']['variables']\n",
    "variable_definitions"
   ]
  },
  {
   "cell_type": "code",
   "execution_count": null,
   "id": "156e111f-21cc-4898-996d-1316a5579529",
   "metadata": {},
   "outputs": [],
   "source": [
    "variable_id = variable_definitions[0]['id']\n",
    "variable_id"
   ]
  },
  {
   "cell_type": "code",
   "execution_count": null,
   "id": "1ab92ddd-32b0-4cbe-8355-4859d8455b9b",
   "metadata": {},
   "outputs": [],
   "source": [
    "variable_id_pattern = re.compile(r'{\\s*' + variable_id + r'\\s*}')\n",
    "variable_id_pattern"
   ]
  },
  {
   "cell_type": "code",
   "execution_count": null,
   "id": "01373fff-2183-49e9-9bae-6709b99da15a",
   "metadata": {},
   "outputs": [],
   "source": [
    "# if variable_id_pattern.search(template_markdown):\n",
    "random_placeholder = 'HTML 123123'\n",
    "variable_id_pattern.sub(random_placeholder, template_markdown)"
   ]
  },
  {
   "cell_type": "code",
   "execution_count": null,
   "id": "45d3990b-bdad-4b97-963d-15b74fc65125",
   "metadata": {},
   "outputs": [],
   "source": [
    "batch_configuration['input']['variables']"
   ]
  },
  {
   "cell_type": "code",
   "execution_count": null,
   "id": "16380716-5bb4-4d6d-81ca-6b3bed1d624b",
   "metadata": {},
   "outputs": [],
   "source": [
    "batch_variable_definitions = batch_configuration['input']['variables']\n",
    "variable_data_by_id = {_['id']: _['data'] for _ in batch_variable_definitions}\n",
    "variable_data_by_id"
   ]
  },
  {
   "cell_type": "code",
   "execution_count": null,
   "id": "71b4a69c-fc3b-46ef-a852-16caa8e3493a",
   "metadata": {},
   "outputs": [],
   "source": [
    "# maybe we do not need to merge dictionaries"
   ]
  },
  {
   "cell_type": "code",
   "execution_count": null,
   "id": "c44f94e2-dfd9-49a5-99ec-20f5d0a6da0f",
   "metadata": {},
   "outputs": [],
   "source": [
    "assert variable_definitions[0]['view'] == 'number'\n",
    "variable_id = 'mean'\n",
    "variable_data = variable_data_by_id[variable_id]\n",
    "variable_html = \"<input class='input {variable_id}' type='number' value='{variable_data}'>\".format(\n",
    "    variable_id=variable_id,\n",
    "    variable_data=variable_data)\n",
    "variable_html"
   ]
  },
  {
   "cell_type": "code",
   "execution_count": null,
   "id": "2a4c21eb-7666-47d8-b8ee-2e24d661486d",
   "metadata": {},
   "outputs": [],
   "source": [
    "import re\n",
    "\n",
    "number_mapping = {'1': 'one321',\n",
    "                  '2': 'two',\n",
    "                  '3': 'three'}\n",
    "s = \"1 testing 2 3\"\n",
    "\n",
    "re.sub(r'\\d', lambda x: number_mapping[x.group()], s)"
   ]
  },
  {
   "cell_type": "code",
   "execution_count": null,
   "id": "64613ecb-92f2-41b4-a460-6f9997f8bd71",
   "metadata": {},
   "outputs": [],
   "source": [
    "def f(match):\n",
    "    t = match.group()\n",
    "    print(t)\n",
    "    return t\n",
    "\n",
    "re.sub(r'\\d', f, '1 2 3')"
   ]
  },
  {
   "cell_type": "code",
   "execution_count": null,
   "id": "277e8edd-91c9-4a2c-b2a4-8ca1a5933e18",
   "metadata": {},
   "outputs": [],
   "source": [
    "# Find matching input variable ids in input template"
   ]
  },
  {
   "cell_type": "code",
   "execution_count": null,
   "id": "2012c498-1b39-4704-8cbd-00d4797b68f3",
   "metadata": {},
   "outputs": [],
   "source": [
    "# Render html from variable definition"
   ]
  },
  {
   "cell_type": "code",
   "execution_count": null,
   "id": "5dc053c0-55c6-46eb-a9f6-ccf7f283dd2a",
   "metadata": {},
   "outputs": [],
   "source": [
    "VARIABLE_ID_PATTERN = re.compile(r'{\\s*([^}]+?)\\s*}')\n",
    "match = VARIABLE_ID_PATTERN.match('{ }}')\n",
    "match"
   ]
  },
  {
   "cell_type": "code",
   "execution_count": null,
   "id": "03a15495-7671-4d5a-8046-af7ba1310503",
   "metadata": {},
   "outputs": [],
   "source": [
    "match.group(0)"
   ]
  },
  {
   "cell_type": "code",
   "execution_count": null,
   "id": "a1213529-7935-4220-b735-557bb7234727",
   "metadata": {},
   "outputs": [],
   "source": [
    "# Substitute html into template\n",
    "def f(match):\n",
    "    matching_text = match.group(0)\n",
    "    variable_id = match.group(1)\n",
    "    \n",
    "    try:\n",
    "        variable_data = variable_data_by_id[variable_id]\n",
    "    except KeyError:\n",
    "        return matching_text\n",
    "    \n",
    "    replacement_text = \"<input class='input {variable_id}' type='number' value='{variable_data}'>\".format(\n",
    "        variable_id=variable_id,\n",
    "        variable_data=variable_data)\n",
    "    return replacement_text\n",
    "\n",
    "rendered_markdown = VARIABLE_ID_PATTERN.sub(f, template_markdown)\n",
    "rendered_markdown"
   ]
  },
  {
   "cell_type": "code",
   "execution_count": null,
   "id": "ddba0aef-8240-47c9-8369-f363b5ae3ef0",
   "metadata": {},
   "outputs": [],
   "source": [
    "# Render template into html"
   ]
  },
  {
   "cell_type": "code",
   "execution_count": null,
   "id": "3ac2c8df-b3d2-4779-a688-bb9dc09b9a38",
   "metadata": {},
   "outputs": [],
   "source": [
    "from markdown import markdown\n",
    "html = markdown(rendered_markdown)\n",
    "html"
   ]
  },
  {
   "cell_type": "code",
   "execution_count": null,
   "id": "03103bb5-493a-417a-9f1d-2825cf636c88",
   "metadata": {},
   "outputs": [],
   "source": [
    "open('x.html', 'wt').write(html)"
   ]
  },
  {
   "cell_type": "code",
   "execution_count": null,
   "id": "f42aaf41-da52-4a03-8426-55e07bba7061",
   "metadata": {},
   "outputs": [],
   "source": [
    "# Turn template from markdown to html"
   ]
  }
 ],
 "metadata": {
  "kernelspec": {
   "display_name": "Python 3 (ipykernel)",
   "language": "python",
   "name": "python3"
  },
  "language_info": {
   "codemirror_mode": {
    "name": "ipython",
    "version": 3
   },
   "file_extension": ".py",
   "mimetype": "text/x-python",
   "name": "python",
   "nbconvert_exporter": "python",
   "pygments_lexer": "ipython3",
   "version": "3.9.5"
  }
 },
 "nbformat": 4,
 "nbformat_minor": 5
}
